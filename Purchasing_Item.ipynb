{
  "nbformat": 4,
  "nbformat_minor": 0,
  "metadata": {
    "colab": {
      "name": "Purchasing_Item.ipynb",
      "provenance": []
    },
    "kernelspec": {
      "name": "python3",
      "display_name": "Python 3"
    },
    "language_info": {
      "name": "python"
    }
  },
  "cells": [
    {
      "cell_type": "markdown",
      "metadata": {
        "id": "ut8IovTGXbsx"
      },
      "source": [
        "### Read Inventory"
      ]
    },
    {
      "cell_type": "code",
      "metadata": {
        "id": "ZresVanQXkfN"
      },
      "source": [
        "import json"
      ],
      "execution_count": 1,
      "outputs": []
    },
    {
      "cell_type": "code",
      "metadata": {
        "id": "n7pSmq1LXE1-"
      },
      "source": [
        "fd = open(\"record.json\",'r')\n",
        "r = fd.read()\n",
        "fd.close()\n",
        "\n",
        "record = json.loads(r)"
      ],
      "execution_count": 3,
      "outputs": []
    },
    {
      "cell_type": "code",
      "metadata": {
        "colab": {
          "base_uri": "https://localhost:8080/"
        },
        "id": "Ow5HEXpDYdmv",
        "outputId": "61a91b21-eab5-4fda-d13b-7ad63da48ef4"
      },
      "source": [
        "print(\"Products Available: \\n\")\n",
        "record"
      ],
      "execution_count": 5,
      "outputs": [
        {
          "output_type": "stream",
          "name": "stdout",
          "text": [
            "Products Available: \n",
            "\n"
          ]
        },
        {
          "output_type": "execute_result",
          "data": {
            "text/plain": [
              "{'1001': {'expiry': 'feb 2023',\n",
              "  'name': 'Parle G Original',\n",
              "  'pr': 10,\n",
              "  'qn': 500,\n",
              "  'wa': 'NA'},\n",
              " '1002': {'expiry': 'dec 2023',\n",
              "  'name': 'Bingo! Mad Angle',\n",
              "  'pr': 10,\n",
              "  'qn': 200,\n",
              "  'wa': 'yes'},\n",
              " '1003': {'expiry': 'oct 2023',\n",
              "  'name': 'Colgate Maxfresh',\n",
              "  'pr': 80,\n",
              "  'qn': 1000,\n",
              "  'wa': 'yes'},\n",
              " '1004': {'expiry': 'oct 2023',\n",
              "  'name': 'Kelloggs pringles',\n",
              "  'pr': 50,\n",
              "  'qn': 1000,\n",
              "  'wa': 'NA'},\n",
              " '1005': {'expiry': 'mar 2023',\n",
              "  'name': 'Himalaya Baby Powder',\n",
              "  'pr': 240,\n",
              "  'qn': 100,\n",
              "  'wa': 'yes'},\n",
              " '1006': {'expiry': 'nov 2023',\n",
              "  'name': 'Himalaya Face wash',\n",
              "  'pr': 300,\n",
              "  'qn': 200,\n",
              "  'wa': 'yes'},\n",
              " '1007': {'expiry': 'june 2023',\n",
              "  'name': 'Dairy Milk Silk',\n",
              "  'pr': 40,\n",
              "  'qn': 150,\n",
              "  'wa': 'yes'},\n",
              " '1008': {'expiry': 'july 2023',\n",
              "  'name': 'Saffola Active',\n",
              "  'pr': 260,\n",
              "  'qn': 200,\n",
              "  'wa': 'NA'},\n",
              " '1009': {'expiry': 'may 2023',\n",
              "  'name': 'Dabur Amla Hair Oil',\n",
              "  'pr': 300,\n",
              "  'qn': 800,\n",
              "  'wa': 'NA'},\n",
              " '1010': {'expiry': 'feb 2023',\n",
              "  'name': 'Cadbury Oreo',\n",
              "  'pr': 60,\n",
              "  'qn': 500,\n",
              "  'wa': 'yes'},\n",
              " '2001': {'expiry': 'jan 2023',\n",
              "  'name': 'Washing Machine',\n",
              "  'pr': 15000,\n",
              "  'qn': 30,\n",
              "  'wa': 'Yes'},\n",
              " '2002': {'expiry': 'nov 2023',\n",
              "  'name': 'Microwave Oven',\n",
              "  'pr': 5500,\n",
              "  'qn': 100,\n",
              "  'wa': 'Yes'},\n",
              " '2003': {'expiry': 'jan 2023',\n",
              "  'name': 'Mixer Grinder',\n",
              "  'pr': 1500,\n",
              "  'qn': 100,\n",
              "  'wa': 'Yes'},\n",
              " '2004': {'expiry': 'aug 2023',\n",
              "  'name': 'Induction Oven',\n",
              "  'pr': 3500,\n",
              "  'qn': 100,\n",
              "  'wa': 'Yes'},\n",
              " '2005': {'expiry': 'dec 2023',\n",
              "  'name': 'Air Fryer',\n",
              "  'pr': 9000,\n",
              "  'qn': 100,\n",
              "  'wa': 'Yes'},\n",
              " '2006': {'expiry': 'sept 2023',\n",
              "  'name': 'Blender',\n",
              "  'pr': 700,\n",
              "  'qn': 200,\n",
              "  'wa': 'Yes'},\n",
              " '2007': {'expiry': 'oct 2023',\n",
              "  'name': 'Vaccum Cleaner',\n",
              "  'pr': 8000,\n",
              "  'qn': 50,\n",
              "  'wa': 'Yes'},\n",
              " '2008': {'expiry': 'oct 2023',\n",
              "  'name': 'Toaster',\n",
              "  'pr': 800,\n",
              "  'qn': 150,\n",
              "  'wa': 'Yes'},\n",
              " '2009': {'expiry': 'sept 2023',\n",
              "  'name': 'Grill',\n",
              "  'pr': 500,\n",
              "  'qn': 120,\n",
              "  'wa': 'Yes'},\n",
              " '2010': {'expiry': 'apr 2023',\n",
              "  'name': 'Sandwich Maker',\n",
              "  'pr': 750,\n",
              "  'qn': 80,\n",
              "  'wa': 'Yes'},\n",
              " '3001': {'expiry': 'apr 2023',\n",
              "  'name': 'Chocolate Cake',\n",
              "  'pr': 80,\n",
              "  'qn': 50,\n",
              "  'wa': 'NA'},\n",
              " '3002': {'expiry': 'sept 2023',\n",
              "  'name': 'Vanilla Ice-cream',\n",
              "  'pr': 100,\n",
              "  'qn': 100,\n",
              "  'wa': 'NA'},\n",
              " '3003': {'expiry': 'apr 2023',\n",
              "  'name': 'Coca-cola',\n",
              "  'pr': 95,\n",
              "  'qn': 100,\n",
              "  'wa': 'NA'},\n",
              " '3004': {'expiry': '20 oct 2023',\n",
              "  'name': 'Jolly Rancher',\n",
              "  'pr': 10,\n",
              "  'qn': 1000,\n",
              "  'wa': 'NA'},\n",
              " '3005': {'expiry': 'oct 2023',\n",
              "  'name': 'Pasta',\n",
              "  'pr': 60,\n",
              "  'qn': 100,\n",
              "  'wa': 'NA'},\n",
              " '3006': {'expiry': 'apr 2023',\n",
              "  'name': 'Chewing Gum',\n",
              "  'pr': 5,\n",
              "  'qn': 900,\n",
              "  'wa': 'NA'},\n",
              " '3007': {'expiry': 'apr 2023',\n",
              "  'name': 'Cotton Candy',\n",
              "  'pr': 50,\n",
              "  'qn': 60,\n",
              "  'wa': 'NA'},\n",
              " '3008': {'expiry': 'sept 2023',\n",
              "  'name': 'Oreo',\n",
              "  'pr': 90,\n",
              "  'qn': 200,\n",
              "  'wa': 'NA'},\n",
              " '3009': {'expiry': 'apr 2023',\n",
              "  'name': 'Cookies',\n",
              "  'pr': 50,\n",
              "  'qn': 150,\n",
              "  'wa': 'NA'},\n",
              " '3010': {'expiry': 'sept 2023',\n",
              "  'name': 'Cheetos',\n",
              "  'pr': 30,\n",
              "  'qn': 300,\n",
              "  'wa': 'NA'},\n",
              " '3030': {'expiry': 'jan 2022',\n",
              "  'name': 'Pepsi',\n",
              "  'pr': 50,\n",
              "  'qn': 100,\n",
              "  'wa': 'NA'}}"
            ]
          },
          "metadata": {},
          "execution_count": 5
        }
      ]
    },
    {
      "cell_type": "code",
      "metadata": {
        "colab": {
          "base_uri": "https://localhost:8080/"
        },
        "id": "zJyo7Wv1bpvF",
        "outputId": "5a1ae884-0a5e-4742-e056-b70040c3817e"
      },
      "source": [
        "ui_prod  = input(\"Enter the product_Id: \")\n",
        "ui_quant = int(input(\"Enter the quantity: \"))\n",
        "\n",
        "\n",
        "for id in record.keys():  \n",
        "    while( ui_prod == id):\n",
        "        if (ui_quant <= record[id]['qn']):\n",
        "\n",
        "          print(\"*******************************\")\n",
        "          print(\"Product Name: \", record[ui_prod]['name'])\n",
        "          print(\"Price: \",record[ui_prod]['pr'])\n",
        "          print(\"Total Quantity: \",record[ui_prod]['qn'])\n",
        "          print(\"Quantity ordered: \",ui_quant)\n",
        "          print(\"-------------------------------\")\n",
        "          print(\"BILLING AMOUNT: \", ui_quant * int(record[ui_prod]['pr']))\n",
        "          print(\"-------------------------------\")\n",
        "          print(\"Thank You. Visit Again\")\n",
        "          print(\"********************************\")\n",
        "\n",
        "          record[ui_prod]['qn'] = record[ui_prod]['qn'] - ui_quant\n",
        "\n",
        "        else: \n",
        "          print(f\"\\n Sorry Sir/Madam !!! The Total Item in Store is {record[ui_prod]['qn']}. But you ordered {ui_quant}. \\n\")\n",
        "          \n",
        "        break\n",
        "\n",
        "\n",
        "if ui_prod not in record.keys(): \n",
        "    print(f\"Sorry Sir/Madam !!! {ui_prod} Item is not present  in the Store\")\n"
      ],
      "execution_count": 58,
      "outputs": [
        {
          "output_type": "stream",
          "name": "stdout",
          "text": [
            "Enter the product_Id: 1003\n",
            "Enter the quantity: 5\n",
            "*******************************\n",
            "Product Name:  Colgate Maxfresh\n",
            "Price:  80\n",
            "Total Quantity:  1000\n",
            "Quantity ordered:  5\n",
            "-------------------------------\n",
            "BILLING AMOUNT:  400\n",
            "-------------------------------\n",
            "Thank You. Visit Again\n",
            "********************************\n"
          ]
        }
      ]
    },
    {
      "cell_type": "markdown",
      "metadata": {
        "id": "EYP2ofstxpo4"
      },
      "source": [
        "### Update Inventory after purchase"
      ]
    },
    {
      "cell_type": "code",
      "metadata": {
        "id": "fnJgBUhJxlzI"
      },
      "source": [
        "js = json.dumps(record)\n",
        "\n",
        "fd = open(\"record.json\",'w')\n",
        "fd.write(js)\n",
        "fd.close()"
      ],
      "execution_count": 59,
      "outputs": []
    },
    {
      "cell_type": "markdown",
      "metadata": {
        "id": "FyjlmWVTzXMu"
      },
      "source": [
        "## SALES JSON"
      ]
    },
    {
      "cell_type": "code",
      "metadata": {
        "colab": {
          "base_uri": "https://localhost:8080/"
        },
        "id": "EWRbmKvtyuPv",
        "outputId": "8004c12c-f88e-48c9-8c11-37a7905ce233"
      },
      "source": [
        "{'prod' : ui_prod,  'qn' : ui_quant,  'amount': record[ui_prod]['pr'] * ui_quant}"
      ],
      "execution_count": 60,
      "outputs": [
        {
          "output_type": "execute_result",
          "data": {
            "text/plain": [
              "{'amount': 400, 'prod': '1003', 'qn': 5}"
            ]
          },
          "metadata": {},
          "execution_count": 60
        }
      ]
    },
    {
      "cell_type": "code",
      "metadata": {
        "id": "BCeRfRsd3gJ3"
      },
      "source": [
        "sales = {1 : {'prod' : ui_prod, 'qn' : ui_quant, 'amount': record[ui_prod]['pr'] * ui_quant}}\n"
      ],
      "execution_count": 61,
      "outputs": []
    },
    {
      "cell_type": "code",
      "metadata": {
        "colab": {
          "base_uri": "https://localhost:8080/"
        },
        "id": "cl078Ym24BlU",
        "outputId": "447a9fbc-4386-4ac3-fe72-191bfbb0d443"
      },
      "source": [
        "sales"
      ],
      "execution_count": 62,
      "outputs": [
        {
          "output_type": "execute_result",
          "data": {
            "text/plain": [
              "{1: {'amount': 400, 'prod': '1003', 'qn': 5}}"
            ]
          },
          "metadata": {},
          "execution_count": 62
        }
      ]
    },
    {
      "cell_type": "code",
      "metadata": {
        "id": "SgllTKld4NJX"
      },
      "source": [
        "sale = json.dumps(sales)\n",
        "\n",
        "fd = open(\"sales.json\",'w')\n",
        "fd.write(sale)\n",
        "fd.close()"
      ],
      "execution_count": 66,
      "outputs": []
    }
  ]
}